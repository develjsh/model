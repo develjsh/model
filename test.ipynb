{
 "cells": [
  {
   "cell_type": "code",
   "execution_count": 13,
   "id": "bae78707",
   "metadata": {},
   "outputs": [],
   "source": [
    "def corner_to_center(corner_boxes):\n",
    "    \"\"\"\n",
    "    input\n",
    "    corner_boxes : corner coordinates boxes : [N, 4] (x1, y1, x2, y2)\n",
    "    output\n",
    "    center_boxes : center coordinates boxes : [N, 4] (cx, cy, w, h)\n",
    "    \"\"\"\n",
    "    cxcy = (corner_boxes[..., :2] + corner_boxes[..., 2:4]) / 2\n",
    "    print(corner_boxes[..., :2])\n",
    "    print(corner_boxes[..., 2:4])\n",
    "    print(cxcy)\n",
    "    wh = corner_boxes[..., 2:4] - corner_boxes[..., :2]\n",
    "\n",
    "    centor_boxes = torch.cat([cxcy, wh], dim=-1)\n",
    "    return centor_boxes"
   ]
  },
  {
   "cell_type": "code",
   "execution_count": 14,
   "id": "e373a613",
   "metadata": {},
   "outputs": [],
   "source": [
    "def center_to_corner(center_boxes):\n",
    "    \"\"\"\n",
    "    input\n",
    "    center_boxes : center coordinates boxes : [N, 4] (cx, cy, w, h)\n",
    "    output\n",
    "    corner_boxes : corner coordinates boxes : [N, 4] (x1, y1, x2, y2)\n",
    "    \"\"\"\n",
    "    x1y1 = center_boxes[..., :2] - (center_boxes[..., 2:4])/2\n",
    "    x2y2 = center_boxes[..., :2] + (center_boxes[..., 2:4])/2\n",
    "    corner_boxes = torch.cat([x1y1, x2y2], dim=-1)\n",
    "    return corner_boxes"
   ]
  },
  {
   "cell_type": "code",
   "execution_count": 15,
   "id": "015a349a",
   "metadata": {},
   "outputs": [
    {
     "name": "stdout",
     "output_type": "stream",
     "text": [
      "tensor([10., 30.])\n",
      "tensor([140., 135.])\n",
      "tensor([75.0000, 82.5000])\n"
     ]
    }
   ],
   "source": [
    "import torch\n",
    "\n",
    "corner_boxes = torch.FloatTensor([10, 30, 140, 135])\n",
    "center_boxes = corner_to_center(corner_boxes)\n",
    "\n",
    "corner_boxes = center_to_corner(center_boxes)"
   ]
  },
  {
   "cell_type": "code",
   "execution_count": null,
   "id": "484c161f",
   "metadata": {},
   "outputs": [],
   "source": []
  }
 ],
 "metadata": {
  "kernelspec": {
   "display_name": "model",
   "language": "python",
   "name": "model"
  },
  "language_info": {
   "codemirror_mode": {
    "name": "ipython",
    "version": 3
   },
   "file_extension": ".py",
   "mimetype": "text/x-python",
   "name": "python",
   "nbconvert_exporter": "python",
   "pygments_lexer": "ipython3",
   "version": "3.10.2"
  }
 },
 "nbformat": 4,
 "nbformat_minor": 5
}
