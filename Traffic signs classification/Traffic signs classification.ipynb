{
 "cells": [
  {
   "cell_type": "code",
   "execution_count": 3,
   "id": "054db24f",
   "metadata": {},
   "outputs": [],
   "source": [
    "import pandas as pd\n",
    "import numpy as np\n",
    "\n",
    "import os\n",
    "import pathlib\n",
    "from pathlib import Path\n",
    "\n",
    "import cv2 \n",
    "from PIL import Image \n",
    "from tensorflow.keras.preprocessing import image\n",
    "\n",
    "import tensorflow as tf\n",
    "from tensorflow import keras\n",
    "from tensorflow.keras.preprocessing.image import ImageDataGenerator #imagedatagenerater는 이미지를 학습시킬 때 학습 데이터의 양이 적을 경우 학습데이터를 조금씩 변형 시켜서 학습데이터의 양을 늘리는 방식중 하나입니다.\n",
    "from tensorflow.keras.preprocessing.image import img_to_array, array_to_img, load_img\n",
    "from tensorflow.keras.optimizers import Adam\n",
    "from tensorflow.keras.utils import to_categorical\n",
    "from tensorflow.keras.layers import Conv2D, MaxPool2D, Dense, Flatten, Dropout\n",
    "from tensorflow.keras.models import Sequential\n",
    "\n",
    "from sklearn.model_selection import train_test_split\n",
    "from sklearn.metrics import accuracy_score\n",
    "\n",
    "import matplotlib.pyplot as plt\n",
    "from matplotlib import style\n",
    "style.use('fivethirtyeight')# IPython 에서 제공하는 Rich output 에 대한 표현 방식입니다."
   ]
  },
  {
   "cell_type": "code",
   "execution_count": 7,
   "id": "57367624",
   "metadata": {},
   "outputs": [
    {
     "data": {
      "text/plain": [
       "45"
      ]
     },
     "execution_count": 7,
     "metadata": {},
     "output_type": "execute_result"
    }
   ],
   "source": [
    "data_dir = pathlib.Path('./gtsrb-german-traffic-sign/Meta')\n",
    "train_path = pathlib.Path('./gtsrb-german-traffic-sign/Train')\n",
    "test_path = pathlib.Path('./gtsrb-german-traffic-sign/Test')\n",
    "\n",
    "# 전처리: 이미지 별로 사이즈가 다르기 때문에 이미지의 폭과 높이를 같은 크기로 통일합니다.\n",
    "IMG_HEGHT = 30\n",
    "IMG_WIDTH = 30\n",
    "channels = 3\n",
    "\n",
    "# 현재 디렉토리 위치 변경합니다.\n",
    "os.chdir(\"/Users/jsh/.kaggle\")\n",
    "Path.cwd()\n",
    "\n",
    "# 카테고리 수 확인합니다.\n",
    "NUM_CATEGORIES = len(os.listdir(data_dir))\n",
    "NUM_CATEGORIES"
   ]
  },
  {
   "cell_type": "code",
   "execution_count": null,
   "id": "d7814f02",
   "metadata": {},
   "outputs": [],
   "source": []
  }
 ],
 "metadata": {
  "kernelspec": {
   "display_name": "model",
   "language": "python",
   "name": "model"
  },
  "language_info": {
   "codemirror_mode": {
    "name": "ipython",
    "version": 3
   },
   "file_extension": ".py",
   "mimetype": "text/x-python",
   "name": "python",
   "nbconvert_exporter": "python",
   "pygments_lexer": "ipython3",
   "version": "3.10.2"
  }
 },
 "nbformat": 4,
 "nbformat_minor": 5
}
