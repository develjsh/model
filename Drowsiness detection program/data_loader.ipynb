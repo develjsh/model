{
 "cells": [
  {
   "cell_type": "code",
   "execution_count": null,
   "id": "b0faf3ae",
   "metadata": {},
   "outputs": [],
   "source": [
    "# x_file의 shape는 (2586,26,34,1)\n",
    "# y_file의 shape는 (2586,1)\n",
    "# 라벨링은 눈을 감으면 0, 뜨면 1로 구성되어 있습니다.\n",
    "# numpy로 구성된 데이터를 GPU 연산에 사용할 수 있게 torch.from_numpy()를 사용하여 tensorfh 변경해줍니다."
   ]
  },
  {
   "cell_type": "code",
   "execution_count": 1,
   "id": "c87fd19f",
   "metadata": {},
   "outputs": [],
   "source": [
    "from torch.utils.data import Dataset\n",
    "import torch\n",
    "\n",
    "class eyes_dataset(Dataset):\n",
    "    def __init__(self, x_file_paths, y_file_path, transform=None):\n",
    "        self.x_files = x_file_paths\n",
    "        self.y_files = y_file_path\n",
    "        self.transform = transform\n",
    "\n",
    "    def __getitem__(self, idx):\n",
    "        x = self.x_files[idx]\n",
    "        x = torch.from_numpy(x).float()\n",
    "\n",
    "        y = self.y_files[idx]\n",
    "        y = torch.from_numpy(y).float()\n",
    "\n",
    "        return x, y\n",
    "\n",
    "    def __len__(self):\n",
    "        return len(self.x_files)"
   ]
  }
 ],
 "metadata": {
  "kernelspec": {
   "display_name": "model",
   "language": "python",
   "name": "model"
  },
  "language_info": {
   "codemirror_mode": {
    "name": "ipython",
    "version": 3
   },
   "file_extension": ".py",
   "mimetype": "text/x-python",
   "name": "python",
   "nbconvert_exporter": "python",
   "pygments_lexer": "ipython3",
   "version": "3.10.2"
  }
 },
 "nbformat": 4,
 "nbformat_minor": 5
}
