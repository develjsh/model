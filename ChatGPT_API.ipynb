{
 "cells": [
  {
   "cell_type": "code",
   "execution_count": 1,
   "id": "ac6682ac",
   "metadata": {},
   "outputs": [
    {
     "name": "stdout",
     "output_type": "stream",
     "text": [
      "Requirement already satisfied: openai in /opt/homebrew/Caskroom/miniforge/base/envs/model/lib/python3.10/site-packages (0.27.2)\n",
      "Requirement already satisfied: requests>=2.20 in /opt/homebrew/Caskroom/miniforge/base/envs/model/lib/python3.10/site-packages (from openai) (2.28.2)\n",
      "Requirement already satisfied: aiohttp in /opt/homebrew/Caskroom/miniforge/base/envs/model/lib/python3.10/site-packages (from openai) (3.8.4)\n",
      "Requirement already satisfied: tqdm in /opt/homebrew/Caskroom/miniforge/base/envs/model/lib/python3.10/site-packages (from openai) (4.65.0)\n",
      "Requirement already satisfied: urllib3<1.27,>=1.21.1 in /opt/homebrew/Caskroom/miniforge/base/envs/model/lib/python3.10/site-packages (from requests>=2.20->openai) (1.26.15)\n",
      "Requirement already satisfied: idna<4,>=2.5 in /opt/homebrew/Caskroom/miniforge/base/envs/model/lib/python3.10/site-packages (from requests>=2.20->openai) (3.4)\n",
      "Requirement already satisfied: charset-normalizer<4,>=2 in /opt/homebrew/Caskroom/miniforge/base/envs/model/lib/python3.10/site-packages (from requests>=2.20->openai) (2.1.1)\n",
      "Requirement already satisfied: certifi>=2017.4.17 in /opt/homebrew/Caskroom/miniforge/base/envs/model/lib/python3.10/site-packages (from requests>=2.20->openai) (2022.12.7)\n",
      "Requirement already satisfied: yarl<2.0,>=1.0 in /opt/homebrew/Caskroom/miniforge/base/envs/model/lib/python3.10/site-packages (from aiohttp->openai) (1.8.2)\n",
      "Requirement already satisfied: multidict<7.0,>=4.5 in /opt/homebrew/Caskroom/miniforge/base/envs/model/lib/python3.10/site-packages (from aiohttp->openai) (6.0.4)\n",
      "Requirement already satisfied: aiosignal>=1.1.2 in /opt/homebrew/Caskroom/miniforge/base/envs/model/lib/python3.10/site-packages (from aiohttp->openai) (1.3.1)\n",
      "Requirement already satisfied: attrs>=17.3.0 in /opt/homebrew/Caskroom/miniforge/base/envs/model/lib/python3.10/site-packages (from aiohttp->openai) (22.2.0)\n",
      "Requirement already satisfied: async-timeout<5.0,>=4.0.0a3 in /opt/homebrew/Caskroom/miniforge/base/envs/model/lib/python3.10/site-packages (from aiohttp->openai) (4.0.2)\n",
      "Requirement already satisfied: frozenlist>=1.1.1 in /opt/homebrew/Caskroom/miniforge/base/envs/model/lib/python3.10/site-packages (from aiohttp->openai) (1.3.3)\n",
      "Requirement already satisfied: gradio in /opt/homebrew/Caskroom/miniforge/base/envs/model/lib/python3.10/site-packages (3.23.0)\n",
      "Requirement already satisfied: requests in /opt/homebrew/Caskroom/miniforge/base/envs/model/lib/python3.10/site-packages (from gradio) (2.28.2)\n",
      "Requirement already satisfied: aiofiles in /opt/homebrew/Caskroom/miniforge/base/envs/model/lib/python3.10/site-packages (from gradio) (23.1.0)\n",
      "Requirement already satisfied: pandas in /opt/homebrew/Caskroom/miniforge/base/envs/model/lib/python3.10/site-packages (from gradio) (1.5.3)\n",
      "Requirement already satisfied: aiohttp in /opt/homebrew/Caskroom/miniforge/base/envs/model/lib/python3.10/site-packages (from gradio) (3.8.4)\n",
      "Requirement already satisfied: altair>=4.2.0 in /opt/homebrew/Caskroom/miniforge/base/envs/model/lib/python3.10/site-packages (from gradio) (4.2.2)\n",
      "Requirement already satisfied: pyyaml in /opt/homebrew/Caskroom/miniforge/base/envs/model/lib/python3.10/site-packages (from gradio) (6.0)\n",
      "Requirement already satisfied: ffmpy in /opt/homebrew/Caskroom/miniforge/base/envs/model/lib/python3.10/site-packages (from gradio) (0.3.0)\n",
      "Requirement already satisfied: mdit-py-plugins<=0.3.3 in /opt/homebrew/Caskroom/miniforge/base/envs/model/lib/python3.10/site-packages (from gradio) (0.3.3)\n",
      "Requirement already satisfied: huggingface-hub>=0.13.0 in /opt/homebrew/Caskroom/miniforge/base/envs/model/lib/python3.10/site-packages (from gradio) (0.13.3)\n",
      "Requirement already satisfied: pydantic in /opt/homebrew/Caskroom/miniforge/base/envs/model/lib/python3.10/site-packages (from gradio) (1.10.7)\n",
      "Requirement already satisfied: websockets>=10.0 in /opt/homebrew/Caskroom/miniforge/base/envs/model/lib/python3.10/site-packages (from gradio) (10.4)\n",
      "Requirement already satisfied: markupsafe in /opt/homebrew/Caskroom/miniforge/base/envs/model/lib/python3.10/site-packages (from gradio) (2.1.2)\n",
      "Requirement already satisfied: uvicorn in /opt/homebrew/Caskroom/miniforge/base/envs/model/lib/python3.10/site-packages (from gradio) (0.21.1)\n",
      "Requirement already satisfied: fsspec in /opt/homebrew/Caskroom/miniforge/base/envs/model/lib/python3.10/site-packages (from gradio) (2023.3.0)\n",
      "Requirement already satisfied: pydub in /opt/homebrew/Caskroom/miniforge/base/envs/model/lib/python3.10/site-packages (from gradio) (0.25.1)\n",
      "Requirement already satisfied: orjson in /opt/homebrew/Caskroom/miniforge/base/envs/model/lib/python3.10/site-packages (from gradio) (3.8.8)\n",
      "Requirement already satisfied: httpx in /opt/homebrew/Caskroom/miniforge/base/envs/model/lib/python3.10/site-packages (from gradio) (0.23.3)\n",
      "Requirement already satisfied: jinja2 in /opt/homebrew/Caskroom/miniforge/base/envs/model/lib/python3.10/site-packages (from gradio) (3.1.2)\n",
      "Requirement already satisfied: matplotlib in /opt/homebrew/Caskroom/miniforge/base/envs/model/lib/python3.10/site-packages (from gradio) (3.7.1)\n",
      "Requirement already satisfied: numpy in /opt/homebrew/Caskroom/miniforge/base/envs/model/lib/python3.10/site-packages (from gradio) (1.24.2)\n",
      "Requirement already satisfied: python-multipart in /opt/homebrew/Caskroom/miniforge/base/envs/model/lib/python3.10/site-packages (from gradio) (0.0.6)\n",
      "Requirement already satisfied: fastapi in /opt/homebrew/Caskroom/miniforge/base/envs/model/lib/python3.10/site-packages (from gradio) (0.95.0)\n",
      "Requirement already satisfied: pillow in /opt/homebrew/Caskroom/miniforge/base/envs/model/lib/python3.10/site-packages (from gradio) (9.4.0)\n",
      "Requirement already satisfied: typing-extensions in /opt/homebrew/Caskroom/miniforge/base/envs/model/lib/python3.10/site-packages (from gradio) (4.5.0)\n",
      "Requirement already satisfied: semantic-version in /opt/homebrew/Caskroom/miniforge/base/envs/model/lib/python3.10/site-packages (from gradio) (2.10.0)\n",
      "Requirement already satisfied: markdown-it-py[linkify]>=2.0.0 in /opt/homebrew/Caskroom/miniforge/base/envs/model/lib/python3.10/site-packages (from gradio) (2.2.0)\n",
      "Requirement already satisfied: toolz in /opt/homebrew/Caskroom/miniforge/base/envs/model/lib/python3.10/site-packages (from altair>=4.2.0->gradio) (0.12.0)\n",
      "Requirement already satisfied: entrypoints in /opt/homebrew/Caskroom/miniforge/base/envs/model/lib/python3.10/site-packages (from altair>=4.2.0->gradio) (0.4)\n",
      "Requirement already satisfied: jsonschema>=3.0 in /opt/homebrew/Caskroom/miniforge/base/envs/model/lib/python3.10/site-packages (from altair>=4.2.0->gradio) (4.17.3)\n",
      "Requirement already satisfied: tqdm>=4.42.1 in /opt/homebrew/Caskroom/miniforge/base/envs/model/lib/python3.10/site-packages (from huggingface-hub>=0.13.0->gradio) (4.65.0)\n",
      "Requirement already satisfied: packaging>=20.9 in /opt/homebrew/Caskroom/miniforge/base/envs/model/lib/python3.10/site-packages (from huggingface-hub>=0.13.0->gradio) (23.0)\n",
      "Requirement already satisfied: filelock in /opt/homebrew/Caskroom/miniforge/base/envs/model/lib/python3.10/site-packages (from huggingface-hub>=0.13.0->gradio) (3.10.7)\n",
      "Requirement already satisfied: mdurl~=0.1 in /opt/homebrew/Caskroom/miniforge/base/envs/model/lib/python3.10/site-packages (from markdown-it-py[linkify]>=2.0.0->gradio) (0.1.2)\n",
      "Requirement already satisfied: linkify-it-py<3,>=1 in /opt/homebrew/Caskroom/miniforge/base/envs/model/lib/python3.10/site-packages (from markdown-it-py[linkify]>=2.0.0->gradio) (2.0.0)\n",
      "Requirement already satisfied: python-dateutil>=2.8.1 in /opt/homebrew/Caskroom/miniforge/base/envs/model/lib/python3.10/site-packages (from pandas->gradio) (2.8.2)\n",
      "Requirement already satisfied: pytz>=2020.1 in /opt/homebrew/Caskroom/miniforge/base/envs/model/lib/python3.10/site-packages (from pandas->gradio) (2022.7.1)\n",
      "Requirement already satisfied: charset-normalizer<4.0,>=2.0 in /opt/homebrew/Caskroom/miniforge/base/envs/model/lib/python3.10/site-packages (from aiohttp->gradio) (2.1.1)\n",
      "Requirement already satisfied: async-timeout<5.0,>=4.0.0a3 in /opt/homebrew/Caskroom/miniforge/base/envs/model/lib/python3.10/site-packages (from aiohttp->gradio) (4.0.2)\n",
      "Requirement already satisfied: frozenlist>=1.1.1 in /opt/homebrew/Caskroom/miniforge/base/envs/model/lib/python3.10/site-packages (from aiohttp->gradio) (1.3.3)\n",
      "Requirement already satisfied: attrs>=17.3.0 in /opt/homebrew/Caskroom/miniforge/base/envs/model/lib/python3.10/site-packages (from aiohttp->gradio) (22.2.0)\n",
      "Requirement already satisfied: aiosignal>=1.1.2 in /opt/homebrew/Caskroom/miniforge/base/envs/model/lib/python3.10/site-packages (from aiohttp->gradio) (1.3.1)\n",
      "Requirement already satisfied: multidict<7.0,>=4.5 in /opt/homebrew/Caskroom/miniforge/base/envs/model/lib/python3.10/site-packages (from aiohttp->gradio) (6.0.4)\n",
      "Requirement already satisfied: yarl<2.0,>=1.0 in /opt/homebrew/Caskroom/miniforge/base/envs/model/lib/python3.10/site-packages (from aiohttp->gradio) (1.8.2)\n",
      "Requirement already satisfied: starlette<0.27.0,>=0.26.1 in /opt/homebrew/Caskroom/miniforge/base/envs/model/lib/python3.10/site-packages (from fastapi->gradio) (0.26.1)\n",
      "Requirement already satisfied: rfc3986[idna2008]<2,>=1.3 in /opt/homebrew/Caskroom/miniforge/base/envs/model/lib/python3.10/site-packages (from httpx->gradio) (1.5.0)\n"
     ]
    },
    {
     "name": "stdout",
     "output_type": "stream",
     "text": [
      "Requirement already satisfied: certifi in /opt/homebrew/Caskroom/miniforge/base/envs/model/lib/python3.10/site-packages (from httpx->gradio) (2022.12.7)\n",
      "Requirement already satisfied: httpcore<0.17.0,>=0.15.0 in /opt/homebrew/Caskroom/miniforge/base/envs/model/lib/python3.10/site-packages (from httpx->gradio) (0.16.3)\n",
      "Requirement already satisfied: sniffio in /opt/homebrew/Caskroom/miniforge/base/envs/model/lib/python3.10/site-packages (from httpx->gradio) (1.3.0)\n",
      "Requirement already satisfied: fonttools>=4.22.0 in /opt/homebrew/Caskroom/miniforge/base/envs/model/lib/python3.10/site-packages (from matplotlib->gradio) (4.39.0)\n",
      "Requirement already satisfied: pyparsing>=2.3.1 in /opt/homebrew/Caskroom/miniforge/base/envs/model/lib/python3.10/site-packages (from matplotlib->gradio) (3.0.9)\n",
      "Requirement already satisfied: cycler>=0.10 in /opt/homebrew/Caskroom/miniforge/base/envs/model/lib/python3.10/site-packages (from matplotlib->gradio) (0.11.0)\n",
      "Requirement already satisfied: kiwisolver>=1.0.1 in /opt/homebrew/Caskroom/miniforge/base/envs/model/lib/python3.10/site-packages (from matplotlib->gradio) (1.4.4)\n",
      "Requirement already satisfied: contourpy>=1.0.1 in /opt/homebrew/Caskroom/miniforge/base/envs/model/lib/python3.10/site-packages (from matplotlib->gradio) (1.0.7)\n",
      "Requirement already satisfied: idna<4,>=2.5 in /opt/homebrew/Caskroom/miniforge/base/envs/model/lib/python3.10/site-packages (from requests->gradio) (3.4)\n",
      "Requirement already satisfied: urllib3<1.27,>=1.21.1 in /opt/homebrew/Caskroom/miniforge/base/envs/model/lib/python3.10/site-packages (from requests->gradio) (1.26.15)\n",
      "Requirement already satisfied: click>=7.0 in /opt/homebrew/Caskroom/miniforge/base/envs/model/lib/python3.10/site-packages (from uvicorn->gradio) (8.1.3)\n",
      "Requirement already satisfied: h11>=0.8 in /opt/homebrew/Caskroom/miniforge/base/envs/model/lib/python3.10/site-packages (from uvicorn->gradio) (0.14.0)\n",
      "Requirement already satisfied: anyio<5.0,>=3.0 in /opt/homebrew/Caskroom/miniforge/base/envs/model/lib/python3.10/site-packages (from httpcore<0.17.0,>=0.15.0->httpx->gradio) (3.6.2)\n",
      "Requirement already satisfied: pyrsistent!=0.17.0,!=0.17.1,!=0.17.2,>=0.14.0 in /opt/homebrew/Caskroom/miniforge/base/envs/model/lib/python3.10/site-packages (from jsonschema>=3.0->altair>=4.2.0->gradio) (0.19.3)\n",
      "Requirement already satisfied: uc-micro-py in /opt/homebrew/Caskroom/miniforge/base/envs/model/lib/python3.10/site-packages (from linkify-it-py<3,>=1->markdown-it-py[linkify]>=2.0.0->gradio) (1.0.1)\n",
      "Requirement already satisfied: six>=1.5 in /opt/homebrew/Caskroom/miniforge/base/envs/model/lib/python3.10/site-packages (from python-dateutil>=2.8.1->pandas->gradio) (1.16.0)\n"
     ]
    }
   ],
   "source": [
    "# 파이썬으로 개발\n",
    "\n",
    "!pip install openai\n",
    "!pip install gradio"
   ]
  },
  {
   "cell_type": "code",
   "execution_count": 1,
   "id": "f04a92bf",
   "metadata": {},
   "outputs": [],
   "source": [
    "import openai\n",
    "import gradio as gr\n",
    "import apikey\n",
    "\n",
    "OPENAI_API_KEY = apikey.OPENAI_API_KEY\n",
    "openai.api_key = OPENAI_API_KEY"
   ]
  },
  {
   "cell_type": "code",
   "execution_count": 2,
   "id": "8c175ce1",
   "metadata": {},
   "outputs": [],
   "source": [
    "from IPython.display import Markdown, HTML\n",
    "import time\n",
    "\n",
    "class Chat:\n",
    "    def __init__(self, system_content='You are a helpful assistant.'):\n",
    "        self.system_content = system_content\n",
    "        self.init_messages()\n",
    "        \n",
    "    def init_messages(self):\n",
    "        self.messages = []\n",
    "        if self.system_content:\n",
    "            self.add_system_content(self.system_content)\n",
    "            \n",
    "    def add_user_content(self, content):\n",
    "        self.messages.append({\"role\": \"user\", \"content\": content})\n",
    "    def add_assistant_content(self, content):\n",
    "        self.messages.append({\"role\": \"assistant\", \"content\": content})\n",
    "    def add_system_content(self, content):\n",
    "        self.messages.append({\"role\": \"system\", \"content\": content})\n",
    "        \n",
    "    def _run_query(self):\n",
    "        max_retries = 7\n",
    "        wait_time = 1\n",
    "\n",
    "        for i in range(max_retries):\n",
    "            try:\n",
    "                self.response = openai.ChatCompletion.create(\n",
    "                    model=\"gpt-3.5-turbo\",\n",
    "                    messages=self.messages,\n",
    "                    temperature=1.0, # control the level of randomness or \"creativity\" in the generated text.\n",
    "                    top_p=1.0 # control the level of randomness or \"creativity\" in the next word.\n",
    "                )\n",
    "                return\n",
    "            except Exception as e:\n",
    "                if i == max_retries - 1:\n",
    "                    raise\n",
    "                else:\n",
    "                    print(f\"Exception {e}. Retrying in {wait_time} seconds...\")\n",
    "                    time.sleep(wait_time)\n",
    "                    wait_time *= 2\n",
    "\n",
    "        \n",
    "    def query(self, q, print_response=True):\n",
    "        self.add_user_content(q)\n",
    "        self._run_query()\n",
    "        self.add_assistant_content(self.response['choices'][0]['message']['content'])\n",
    "        if print_response:\n",
    "            display(Markdown(self.messages[-1]['content']))\n",
    "            \n",
    "    def print_messages(self):\n",
    "        for d in self.messages:\n",
    "            role = d['role']\n",
    "            content = d['content']\n",
    "            if role == 'assistant':\n",
    "                display(Markdown(content))\n",
    "            else:\n",
    "                color = '#080' if role == 'system' else '#008'\n",
    "                display(HTML(f\"<span style='color: {color}'><b>{role}</b> : {content}</span>\"))"
   ]
  },
  {
   "cell_type": "code",
   "execution_count": 3,
   "id": "6ce80d57",
   "metadata": {},
   "outputs": [],
   "source": [
    "chat = Chat()"
   ]
  },
  {
   "cell_type": "code",
   "execution_count": 4,
   "id": "80b67952",
   "metadata": {},
   "outputs": [
    {
     "name": "stdout",
     "output_type": "stream",
     "text": [
      "Running on local URL:  http://127.0.0.1:7860\n",
      "Running on public URL: https://0925a41f0eefb7a9de.gradio.live\n",
      "\n",
      "This share link expires in 72 hours. For free permanent hosting and GPU upgrades (NEW!), check out Spaces: https://huggingface.co/spaces\n"
     ]
    },
    {
     "data": {
      "text/html": [
       "<div><iframe src=\"https://0925a41f0eefb7a9de.gradio.live\" width=\"100%\" height=\"500\" allow=\"autoplay; camera; microphone; clipboard-read; clipboard-write;\" frameborder=\"0\" allowfullscreen></iframe></div>"
      ],
      "text/plain": [
       "<IPython.core.display.HTML object>"
      ]
     },
     "metadata": {},
     "output_type": "display_data"
    },
    {
     "data": {
      "text/plain": []
     },
     "execution_count": 4,
     "metadata": {},
     "output_type": "execute_result"
    },
    {
     "data": {
      "text/markdown": [
       "어쩔티비를 영어로는 \"What to Watch TV\" 또는 \"What Should I Watch TV\"로 번역할 수 있습니다."
      ],
      "text/plain": [
       "<IPython.core.display.Markdown object>"
      ]
     },
     "metadata": {},
     "output_type": "display_data"
    }
   ],
   "source": [
    "def add_text(state, text):\n",
    "    chat.query(text)\n",
    "    result = chat.messages[-1]['content']\n",
    "    state = state + [(text, result)]\n",
    "    return state, state\n",
    "\n",
    "\n",
    "with gr.Blocks(css=\"#chatbot .overflow-y-auto{height:500px}\") as demo:\n",
    "    chatbot = gr.Chatbot(elem_id=\"chatbot\")\n",
    "    state = gr.State([])\n",
    "\n",
    "    with gr.Row():\n",
    "        txt = gr.Textbox(show_label=False, placeholder=\"Enter text and press enter, or upload an image\").style(container=False)\n",
    "\n",
    "    txt.submit(add_text, [state, txt], [state, chatbot])\n",
    "    txt.submit(lambda :\"\", None, txt)\n",
    "\n",
    "demo.launch(share=True, inline=True)"
   ]
  },
  {
   "cell_type": "code",
   "execution_count": 5,
   "id": "6835a4a5",
   "metadata": {},
   "outputs": [
    {
     "name": "stdout",
     "output_type": "stream",
     "text": [
      "Closing server running on port: 7860\n"
     ]
    }
   ],
   "source": [
    "# demo.close()"
   ]
  },
  {
   "cell_type": "code",
   "execution_count": null,
   "id": "3b0ed6a7",
   "metadata": {},
   "outputs": [],
   "source": []
  }
 ],
 "metadata": {
  "kernelspec": {
   "display_name": "model",
   "language": "python",
   "name": "model"
  },
  "language_info": {
   "codemirror_mode": {
    "name": "ipython",
    "version": 3
   },
   "file_extension": ".py",
   "mimetype": "text/x-python",
   "name": "python",
   "nbconvert_exporter": "python",
   "pygments_lexer": "ipython3",
   "version": "3.10.2"
  }
 },
 "nbformat": 4,
 "nbformat_minor": 5
}
